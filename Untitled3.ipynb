{
 "metadata": {
  "name": ""
 },
 "nbformat": 3,
 "nbformat_minor": 0,
 "worksheets": [
  {
   "cells": [
    {
     "cell_type": "code",
     "collapsed": false,
     "input": [
      "#!/usr/bin/python\n",
      "\n",
      "import numpy as np\n",
      "import scipy as sp\n",
      "import urllib\n",
      "cols=39\n",
      "begin,end = 16,24\n",
      "#begin,end = 1,30\n",
      "categorycol=38\n",
      "raw_data = urllib.urlopen(\"train\")\n",
      "dataset = np.loadtxt(raw_data, delimiter=\",\", usecols=range(cols))\n",
      "x = dataset[:,0:end]\n",
      "y = dataset[:,categorycol]\n",
      "\n",
      "varify_data1 = urllib.urlopen(\"varification\")\n",
      "#varify_dataset = np.loadtxt(varify_data1, delimiter=\",\", usecols=range(cols-1))\n",
      "varify_dataset = np.loadtxt(varify_data1, delimiter=\",\", usecols=range(cols))\n",
      "z = varify_dataset[:,begin:end]\n",
      "a = varify_dataset[:,categorycol]\n",
      "\n",
      "from sklearn import preprocessing\n",
      "# normalize the data attributes\n",
      "normalized_X = preprocessing.normalize(x)\n",
      "# standardize the data attributes\n",
      "standardized_X = preprocessing.scale(x)\n",
      "\n",
      "import matplotlib.pyplot as pl\n",
      "from sklearn import decomposition\n",
      "pca = decomposition.PCA(n_components=1)\n",
      "pca.fit(x)\n",
      "X = pca.transform(x)\n",
      "pl.scatter(x[:,0], x[:,2],c=y)\n",
      "pl.autoscale(tight=True)\n",
      "pl.title(\"core time\")\n",
      "pl.xlabel(\"core\")\n",
      "pl.ylabel(\"time\")\n",
      "pl.grid()\n",
      "\n",
      "fCurve3p = sp.polyfit(x[:,0], x[:,2], 3)\n",
      "fCurve3 = sp.poly1d(fCurve3p)"
     ],
     "language": "python",
     "metadata": {},
     "outputs": [
      {
       "metadata": {},
       "output_type": "display_data",
       "png": "[encoded data removed]",
       "text": [
        "<matplotlib.figure.Figure at 0x7f1a899ebcd0>"
       ]
      }
     ],
     "prompt_number": 1
    },
    {
     "cell_type": "code",
     "collapsed": false,
     "input": [],
     "language": "python",
     "metadata": {},
     "outputs": [],
     "prompt_number": 87
    },
    {
     "cell_type": "code",
     "collapsed": false,
     "input": [],
     "language": "python",
     "metadata": {},
     "outputs": [],
     "prompt_number": 54
    },
    {
     "cell_type": "code",
     "collapsed": false,
     "input": [],
     "language": "python",
     "metadata": {},
     "outputs": [],
     "prompt_number": 54
    },
    {
     "cell_type": "code",
     "collapsed": false,
     "input": [],
     "language": "python",
     "metadata": {},
     "outputs": [],
     "prompt_number": 54
    },
    {
     "cell_type": "code",
     "collapsed": false,
     "input": [],
     "language": "python",
     "metadata": {},
     "outputs": [],
     "prompt_number": 54
    },
    {
     "cell_type": "code",
     "collapsed": false,
     "input": [],
     "language": "python",
     "metadata": {},
     "outputs": [],
     "prompt_number": 54
    },
    {
     "cell_type": "code",
     "collapsed": false,
     "input": [],
     "language": "python",
     "metadata": {},
     "outputs": []
    }
   ],
   "metadata": {}
  }
 ]
}